{
 "cells": [
  {
   "cell_type": "code",
   "execution_count": null,
   "metadata": {},
   "outputs": [],
   "source": [
    "import requests\n",
    "import bs4\n",
    "from bs4 import BeautifulSoup\n",
    "import re\n",
    "import json\n",
    "import string\n"
   ]
  },
  {
   "cell_type": "code",
   "execution_count": null,
   "metadata": {},
   "outputs": [],
   "source": [
    "url = 'https://search.sina.com.cn/news'"
   ]
  },
  {
   "cell_type": "code",
   "execution_count": null,
   "metadata": {},
   "outputs": [],
   "source": [
    "referer='https://search.sina.com.cn/news?'\n",
    "\n",
    "params = {\"q\": requests.utils.quote(\"阿里巴巴\"), \"c\": \"news\", }\n",
    "data = {\"q\":\"阿里巴巴\", \"c\": \"news\", }\n",
    "\n",
    "for key, value in params.items():\n",
    "    referer += key + '=' + value + '&'\n",
    "\n",
    "\n",
    "headers = {\n",
    "    'User-Agent':'Mozilla/5.0 (Macintosh; Intel Mac OS X 10_15_7) AppleWebKit/537.36 (KHTML, like Gecko) Chrome/101.0.4951.64 Safari/537.36',\n",
    "    'Content-Type': 'application/x-www-form-urlencoded',\n",
    "    'referer': referer\n",
    "}"
   ]
  },
  {
   "cell_type": "code",
   "execution_count": null,
   "metadata": {},
   "outputs": [],
   "source": [
    "r = requests.post(url, data=data, headers=headers, allow_redirects=True)"
   ]
  },
  {
   "cell_type": "code",
   "execution_count": null,
   "metadata": {},
   "outputs": [],
   "source": [
    "soup = bs4.BeautifulSoup(r.text, 'html.parser')"
   ]
  },
  {
   "cell_type": "code",
   "execution_count": null,
   "metadata": {},
   "outputs": [],
   "source": [
    "elements = soup.html.find_all(class_=re.compile('box-result'))\n",
    "\n",
    "def getDate(element):\n",
    "    headers = {\n",
    "        'User-Agent':'Mozilla/5.0 (Macintosh; Intel Mac OS X 10_15_7) AppleWebKit/537.36 (KHTML, like Gecko) Chrome/101.0.4951.64 Safari/537.36',\n",
    "        'Content-Type': 'application/x-www-form-urlencoded;charset=utf-8',\n",
    "    }\n",
    "\n",
    "    detail = requests.get(element.h2.a.get('href'), headers=headers)\n",
    "\n",
    "    detailSoup = bs4.BeautifulSoup(detail.content.decode('iso-8859-1'), 'html.parser')\n",
    "\n",
    "    dateElement = detailSoup.find(class_=\"date\")\n",
    "\n",
    "    text = dateElement.get_text()\n",
    "    date = re.findall(r'\\d+', text)[0:3]\n",
    "\n",
    "    return '-'.join(date) \n",
    "\n",
    "def cleanData(element):\n",
    "    data = {}\n",
    "    data['title'] = {'name': '标题', 'value':element.find('h2').text}\n",
    "    data['url'] = {'name': '链接', 'value': element.find('h2').find('a').get('href')}\n",
    "    data['source'] ={'name': '来源','value': element.find(class_=re.compile('fgray_time')).get_text().split(' ')[0]}\n",
    "    data['date'] = {'name': '日期', 'value':getDate(element)}\n",
    "    return data\n",
    "\n",
    "file1 = open('data.txt', 'w')\n",
    "for i in elements:\n",
    "    res = cleanData(i)\n",
    "\n",
    "    for key, value in res.items():\n",
    "        print(value['name'] + ':' + value['value'])\n",
    "        file1.write(value['name'] + ':' + value['value'] + '\\n')\n",
    "\n",
    "\n",
    "    print('\\n')\n",
    "    file1.write('\\n')\n",
    "\n",
    "\n"
   ]
  },
  {
   "cell_type": "markdown",
   "metadata": {},
   "source": []
  }
 ],
 "metadata": {
  "interpreter": {
   "hash": "b29f30fde5c741ed152532007756d771536872ff01c2a71ac88cfa89ef7ab429"
  },
  "kernelspec": {
   "display_name": "Python 3.9.12 ('base')",
   "language": "python",
   "name": "python3"
  },
  "language_info": {
   "codemirror_mode": {
    "name": "ipython",
    "version": 3
   },
   "file_extension": ".py",
   "mimetype": "text/x-python",
   "name": "python",
   "nbconvert_exporter": "python",
   "pygments_lexer": "ipython3",
   "version": "3.9.12"
  },
  "orig_nbformat": 4
 },
 "nbformat": 4,
 "nbformat_minor": 2
}
